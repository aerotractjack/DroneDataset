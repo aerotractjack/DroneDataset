{
 "cells": [
  {
   "cell_type": "code",
   "execution_count": 1,
   "id": "0880b32d-eb1c-45c2-bd37-a8bb857b7acf",
   "metadata": {},
   "outputs": [],
   "source": [
    "from dataset import AeroDataset, test_paths\n",
    "import rasterio\n",
    "\n",
    "tif, aoi, points = test_paths()\n",
    "\n",
    "ds = AeroDataset(tif, aoi, points)\n",
    "\n",
    "with rasterio.open(ds.src_img_path) as src:\n",
    "    height = src.height\n",
    "    width = src.width"
   ]
  },
  {
   "cell_type": "code",
   "execution_count": 2,
   "id": "4af97f1e-920a-49e6-af21-4bbaeef1c189",
   "metadata": {},
   "outputs": [
    {
     "name": "stdout",
     "output_type": "stream",
     "text": [
      "=======\n",
      "0 0\n",
      "128 441 0.0\n",
      "128 128\n"
     ]
    },
    {
     "ename": "TypeError",
     "evalue": "Series.__init__() got an unexpected keyword argument 'geometry'",
     "output_type": "error",
     "traceback": [
      "\u001b[0;31m---------------------------------------------------------------------------\u001b[0m",
      "\u001b[0;31mTypeError\u001b[0m                                 Traceback (most recent call last)",
      "Cell \u001b[0;32mIn[2], line 1\u001b[0m\n\u001b[0;32m----> 1\u001b[0m \u001b[38;5;28;01mfor\u001b[39;00m x,y \u001b[38;5;129;01min\u001b[39;00m ds\u001b[38;5;241m.\u001b[39miter(overlap\u001b[38;5;241m=\u001b[39m\u001b[38;5;241m0.9\u001b[39m):\n\u001b[1;32m      2\u001b[0m     \u001b[38;5;28;01mpass\u001b[39;00m\n",
      "File \u001b[0;32m~/software/data_playground/dataset.py:135\u001b[0m, in \u001b[0;36mAeroDataset.iter\u001b[0;34m(self, tile_size, windows_only, overlap)\u001b[0m\n\u001b[1;32m    133\u001b[0m     \u001b[38;5;28;01myield\u001b[39;00m \u001b[38;5;28mself\u001b[39m\u001b[38;5;241m.\u001b[39mwindow_latlong(w)\n\u001b[1;32m    134\u001b[0m     \u001b[38;5;28;01mcontinue\u001b[39;00m\n\u001b[0;32m--> 135\u001b[0m tile \u001b[38;5;241m=\u001b[39m \u001b[38;5;28;43mself\u001b[39;49m\u001b[38;5;241;43m.\u001b[39;49m\u001b[43mwindow_data\u001b[49m\u001b[43m(\u001b[49m\u001b[43mrow\u001b[49m\u001b[43m,\u001b[49m\u001b[43m \u001b[49m\u001b[43mcol\u001b[49m\u001b[43m,\u001b[49m\u001b[43m \u001b[49m\u001b[43mtile_size\u001b[49m\u001b[43m)\u001b[49m\n\u001b[1;32m    136\u001b[0m \u001b[38;5;28;01mif\u001b[39;00m tile \u001b[38;5;129;01mis\u001b[39;00m \u001b[38;5;28;01mNone\u001b[39;00m:\n\u001b[1;32m    137\u001b[0m     \u001b[38;5;28;01mcontinue\u001b[39;00m\n",
      "File \u001b[0;32m~/software/data_playground/dataset.py:92\u001b[0m, in \u001b[0;36mAeroDataset.window_data\u001b[0;34m(self, row, col, tile_size, latlong)\u001b[0m\n\u001b[1;32m     90\u001b[0m \u001b[38;5;28;01mif\u001b[39;00m \u001b[38;5;28mself\u001b[39m\u001b[38;5;241m.\u001b[39mlabel_path \u001b[38;5;129;01mis\u001b[39;00m \u001b[38;5;28;01mNone\u001b[39;00m:\n\u001b[1;32m     91\u001b[0m     \u001b[38;5;28;01mreturn\u001b[39;00m tile\n\u001b[0;32m---> 92\u001b[0m \u001b[38;5;28;01mreturn\u001b[39;00m tile, \u001b[38;5;28;43mself\u001b[39;49m\u001b[38;5;241;43m.\u001b[39;49m\u001b[43mwindow_labels\u001b[49m\u001b[43m(\u001b[49m\u001b[43mwindow\u001b[49m\u001b[43m,\u001b[49m\u001b[43m \u001b[49m\u001b[43mlatlong\u001b[49m\u001b[43m)\u001b[49m\n",
      "File \u001b[0;32m~/software/data_playground/dataset.py:96\u001b[0m, in \u001b[0;36mAeroDataset.window_labels\u001b[0;34m(self, window, latlong)\u001b[0m\n\u001b[1;32m     94\u001b[0m \u001b[38;5;28;01mdef\u001b[39;00m \u001b[38;5;21mwindow_labels\u001b[39m(\u001b[38;5;28mself\u001b[39m, window, latlong\u001b[38;5;241m=\u001b[39m\u001b[38;5;28;01mFalse\u001b[39;00m):\n\u001b[1;32m     95\u001b[0m     labeled_gdf \u001b[38;5;241m=\u001b[39m gpd\u001b[38;5;241m.\u001b[39mread_file(\u001b[38;5;28mself\u001b[39m\u001b[38;5;241m.\u001b[39mlabel_path)\n\u001b[0;32m---> 96\u001b[0m     tile_box \u001b[38;5;241m=\u001b[39m \u001b[38;5;28;43mself\u001b[39;49m\u001b[38;5;241;43m.\u001b[39;49m\u001b[43mwindow_latlong\u001b[49m\u001b[43m(\u001b[49m\u001b[43mwindow\u001b[49m\u001b[43m)\u001b[49m\n\u001b[1;32m     97\u001b[0m     crs \u001b[38;5;241m=\u001b[39m \u001b[38;5;28mself\u001b[39m\u001b[38;5;241m.\u001b[39mcrs\n\u001b[1;32m     98\u001b[0m     \u001b[38;5;28;01mwith\u001b[39;00m rasterio\u001b[38;5;241m.\u001b[39mopen(\u001b[38;5;28mself\u001b[39m\u001b[38;5;241m.\u001b[39msrc_img_path) \u001b[38;5;28;01mas\u001b[39;00m src:\n",
      "File \u001b[0;32m~/software/data_playground/dataset.py:76\u001b[0m, in \u001b[0;36mAeroDataset.window_latlong\u001b[0;34m(self, window)\u001b[0m\n\u001b[1;32m     74\u001b[0m     l, b, r, t \u001b[38;5;241m=\u001b[39m src\u001b[38;5;241m.\u001b[39mwindow_bounds(window)\n\u001b[1;32m     75\u001b[0m window_geom \u001b[38;5;241m=\u001b[39m box(l, b, r, t)\n\u001b[0;32m---> 76\u001b[0m window_geom \u001b[38;5;241m=\u001b[39m \u001b[43mgpd\u001b[49m\u001b[38;5;241;43m.\u001b[39;49m\u001b[43mGeoSeries\u001b[49m\u001b[43m(\u001b[49m\u001b[43mgeometry\u001b[49m\u001b[38;5;241;43m=\u001b[39;49m\u001b[43mwindow_geom\u001b[49m\u001b[43m,\u001b[49m\u001b[43m \u001b[49m\u001b[43mcrs\u001b[49m\u001b[38;5;241;43m=\u001b[39;49m\u001b[43mcrs\u001b[49m\u001b[43m)\u001b[49m\u001b[38;5;241m.\u001b[39mto_crs(crs)\u001b[38;5;241m.\u001b[39mvalues[\u001b[38;5;241m0\u001b[39m]\n\u001b[1;32m     77\u001b[0m \u001b[38;5;28;01mreturn\u001b[39;00m window_geom\n",
      "File \u001b[0;32m~/.local/lib/python3.10/site-packages/geopandas/geoseries.py:208\u001b[0m, in \u001b[0;36mGeoSeries.__init__\u001b[0;34m(self, data, index, crs, **kwargs)\u001b[0m\n\u001b[1;32m    206\u001b[0m     warnings\u001b[38;5;241m.\u001b[39mfilterwarnings(\u001b[38;5;124m\"\u001b[39m\u001b[38;5;124mignore\u001b[39m\u001b[38;5;124m\"\u001b[39m, empty_msg, \u001b[38;5;167;01mDeprecationWarning\u001b[39;00m)\n\u001b[1;32m    207\u001b[0m     warnings\u001b[38;5;241m.\u001b[39mfilterwarnings(\u001b[38;5;124m\"\u001b[39m\u001b[38;5;124mignore\u001b[39m\u001b[38;5;124m\"\u001b[39m, empty_msg, \u001b[38;5;167;01mFutureWarning\u001b[39;00m)\n\u001b[0;32m--> 208\u001b[0m     s \u001b[38;5;241m=\u001b[39m \u001b[43mpd\u001b[49m\u001b[38;5;241;43m.\u001b[39;49m\u001b[43mSeries\u001b[49m\u001b[43m(\u001b[49m\u001b[43mdata\u001b[49m\u001b[43m,\u001b[49m\u001b[43m \u001b[49m\u001b[43mindex\u001b[49m\u001b[38;5;241;43m=\u001b[39;49m\u001b[43mindex\u001b[49m\u001b[43m,\u001b[49m\u001b[43m \u001b[49m\u001b[43mname\u001b[49m\u001b[38;5;241;43m=\u001b[39;49m\u001b[43mname\u001b[49m\u001b[43m,\u001b[49m\u001b[43m \u001b[49m\u001b[38;5;241;43m*\u001b[39;49m\u001b[38;5;241;43m*\u001b[39;49m\u001b[43mkwargs\u001b[49m\u001b[43m)\u001b[49m\n\u001b[1;32m    209\u001b[0m \u001b[38;5;66;03m# prevent trying to convert non-geometry objects\u001b[39;00m\n\u001b[1;32m    210\u001b[0m \u001b[38;5;28;01mif\u001b[39;00m s\u001b[38;5;241m.\u001b[39mdtype \u001b[38;5;241m!=\u001b[39m \u001b[38;5;28mobject\u001b[39m:\n",
      "\u001b[0;31mTypeError\u001b[0m: Series.__init__() got an unexpected keyword argument 'geometry'"
     ]
    }
   ],
   "source": [
    "for x,y in ds.iter(overlap=0.9):\n",
    "    pass"
   ]
  },
  {
   "cell_type": "code",
   "execution_count": null,
   "id": "d69cca47-7213-4dc8-99e8-2c5f0b496d74",
   "metadata": {},
   "outputs": [],
   "source": [
    "ds.save_windows(overlap=0.9, row=0, col=3)"
   ]
  },
  {
   "cell_type": "code",
   "execution_count": null,
   "id": "a86fd52f-45d1-480d-9ba8-7d02aa8c71e5",
   "metadata": {},
   "outputs": [],
   "source": []
  }
 ],
 "metadata": {
  "kernelspec": {
   "display_name": "Python 3 (ipykernel)",
   "language": "python",
   "name": "python3"
  },
  "language_info": {
   "codemirror_mode": {
    "name": "ipython",
    "version": 3
   },
   "file_extension": ".py",
   "mimetype": "text/x-python",
   "name": "python",
   "nbconvert_exporter": "python",
   "pygments_lexer": "ipython3",
   "version": "3.10.12"
  }
 },
 "nbformat": 4,
 "nbformat_minor": 5
}
